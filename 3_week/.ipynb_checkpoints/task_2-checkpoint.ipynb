{
 "cells": [
  {
   "cell_type": "code",
   "execution_count": 7,
   "id": "4c72a6d5-6f80-4205-ae3b-50d64348b318",
   "metadata": {},
   "outputs": [],
   "source": [
    "import cv2 as cv\n",
    "import numpy as np\n",
    "\n",
    "# Callback function for trackbar changes\n",
    "def update_image(b, g, r):\n",
    "    # global img\n",
    "    img_copy = img.copy()\n",
    "\n",
    "    # Update each channel with trackbar values and use np.clip to ensure valid range\n",
    "    img_copy[:, :] = np.clip(img[:,:]+[b,g,r], 0, 255)  # Blue channel\n",
    "\n",
    "    cv.imshow('Image with Trackbars', img_copy)\n",
    "\n",
    "# Load the image\n",
    "img = cv.imread('la_case_de_papel.jpg')\n",
    "\n",
    "# Create a window for the trackbars\n",
    "cv.namedWindow('Image with Trackbars')\n",
    "\n",
    "# Initialize trackbars\n",
    "cv.createTrackbar('Red', 'Image with Trackbars', 0, 255, lambda x: None)\n",
    "cv.createTrackbar('Green', 'Image with Trackbars', 0, 255, lambda x: None)\n",
    "cv.createTrackbar('Blue', 'Image with Trackbars', 0, 255, lambda x: None)\n",
    "\n",
    "while True:\n",
    "    # Get current trackbar values\n",
    "    b = cv.getTrackbarPos('Blue', 'Image with Trackbars')\n",
    "    g = cv.getTrackbarPos('Green', 'Image with Trackbars')\n",
    "    r = cv.getTrackbarPos('Red', 'Image with Trackbars')\n",
    "\n",
    "    update_image(b, g, r)\n",
    "\n",
    "    k = cv.waitKey(1) & 0xFF\n",
    "    if k == 27:  # Press 'Esc' to exit\n",
    "        break\n",
    "\n",
    "cv.destroyAllWindows()\n"
   ]
  },
  {
   "cell_type": "code",
   "execution_count": null,
   "id": "7bdde298-cb70-48f6-be23-f2336b29f30a",
   "metadata": {},
   "outputs": [],
   "source": []
  }
 ],
 "metadata": {
  "kernelspec": {
   "display_name": "Python 3 (ipykernel)",
   "language": "python",
   "name": "python3"
  },
  "language_info": {
   "codemirror_mode": {
    "name": "ipython",
    "version": 3
   },
   "file_extension": ".py",
   "mimetype": "text/x-python",
   "name": "python",
   "nbconvert_exporter": "python",
   "pygments_lexer": "ipython3",
   "version": "3.10.7"
  }
 },
 "nbformat": 4,
 "nbformat_minor": 5
}
